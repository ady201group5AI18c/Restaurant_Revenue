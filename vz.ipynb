{
 "cells": [
  {
   "cell_type": "code",
   "execution_count": 2,
   "metadata": {},
   "outputs": [],
   "source": [
    "import pandas as pd\n",
    "import numpy as np\n",
    "from scipy import stats"
   ]
  },
  {
   "cell_type": "code",
   "execution_count": 3,
   "metadata": {},
   "outputs": [
    {
     "data": {
      "text/html": [
       "<div>\n",
       "<style scoped>\n",
       "    .dataframe tbody tr th:only-of-type {\n",
       "        vertical-align: middle;\n",
       "    }\n",
       "\n",
       "    .dataframe tbody tr th {\n",
       "        vertical-align: top;\n",
       "    }\n",
       "\n",
       "    .dataframe thead th {\n",
       "        text-align: right;\n",
       "    }\n",
       "</style>\n",
       "<table border=\"1\" class=\"dataframe\">\n",
       "  <thead>\n",
       "    <tr style=\"text-align: right;\">\n",
       "      <th></th>\n",
       "      <th>Name</th>\n",
       "      <th>Location</th>\n",
       "      <th>Cuisine</th>\n",
       "      <th>Rating</th>\n",
       "      <th>Seating Capacity</th>\n",
       "      <th>Average Meal Price</th>\n",
       "      <th>Marketing Budget</th>\n",
       "      <th>Social Media Followers</th>\n",
       "      <th>Chef Experience Years</th>\n",
       "      <th>Number of Reviews</th>\n",
       "      <th>Avg Review Length</th>\n",
       "      <th>Ambience Score</th>\n",
       "      <th>Service Quality Score</th>\n",
       "      <th>Parking Availability</th>\n",
       "      <th>Weekend Reservations</th>\n",
       "      <th>Weekday Reservations</th>\n",
       "      <th>Revenue</th>\n",
       "    </tr>\n",
       "  </thead>\n",
       "  <tbody>\n",
       "    <tr>\n",
       "      <th>0</th>\n",
       "      <td>Restaurant 0</td>\n",
       "      <td>Rural</td>\n",
       "      <td>Japanese</td>\n",
       "      <td>4.0</td>\n",
       "      <td>38</td>\n",
       "      <td>73.98</td>\n",
       "      <td>2224</td>\n",
       "      <td>23406</td>\n",
       "      <td>13</td>\n",
       "      <td>185</td>\n",
       "      <td>161.924906</td>\n",
       "      <td>1.3</td>\n",
       "      <td>7.0</td>\n",
       "      <td>Yes</td>\n",
       "      <td>13</td>\n",
       "      <td>4</td>\n",
       "      <td>638945.52</td>\n",
       "    </tr>\n",
       "    <tr>\n",
       "      <th>1</th>\n",
       "      <td>Restaurant 1</td>\n",
       "      <td>Downtown</td>\n",
       "      <td>Mexican</td>\n",
       "      <td>3.2</td>\n",
       "      <td>76</td>\n",
       "      <td>28.11</td>\n",
       "      <td>4416</td>\n",
       "      <td>42741</td>\n",
       "      <td>8</td>\n",
       "      <td>533</td>\n",
       "      <td>148.759717</td>\n",
       "      <td>2.6</td>\n",
       "      <td>3.4</td>\n",
       "      <td>Yes</td>\n",
       "      <td>48</td>\n",
       "      <td>6</td>\n",
       "      <td>490207.83</td>\n",
       "    </tr>\n",
       "    <tr>\n",
       "      <th>2</th>\n",
       "      <td>Restaurant 2</td>\n",
       "      <td>Rural</td>\n",
       "      <td>Italian</td>\n",
       "      <td>4.7</td>\n",
       "      <td>48</td>\n",
       "      <td>48.29</td>\n",
       "      <td>2796</td>\n",
       "      <td>37285</td>\n",
       "      <td>18</td>\n",
       "      <td>853</td>\n",
       "      <td>56.849189</td>\n",
       "      <td>5.3</td>\n",
       "      <td>6.7</td>\n",
       "      <td>No</td>\n",
       "      <td>27</td>\n",
       "      <td>14</td>\n",
       "      <td>541368.62</td>\n",
       "    </tr>\n",
       "    <tr>\n",
       "      <th>3</th>\n",
       "      <td>Restaurant 3</td>\n",
       "      <td>Rural</td>\n",
       "      <td>Italian</td>\n",
       "      <td>4.4</td>\n",
       "      <td>34</td>\n",
       "      <td>51.55</td>\n",
       "      <td>1167</td>\n",
       "      <td>15214</td>\n",
       "      <td>13</td>\n",
       "      <td>82</td>\n",
       "      <td>205.433265</td>\n",
       "      <td>4.6</td>\n",
       "      <td>2.8</td>\n",
       "      <td>Yes</td>\n",
       "      <td>9</td>\n",
       "      <td>17</td>\n",
       "      <td>404556.80</td>\n",
       "    </tr>\n",
       "    <tr>\n",
       "      <th>4</th>\n",
       "      <td>Restaurant 4</td>\n",
       "      <td>Downtown</td>\n",
       "      <td>Japanese</td>\n",
       "      <td>4.9</td>\n",
       "      <td>88</td>\n",
       "      <td>75.98</td>\n",
       "      <td>3639</td>\n",
       "      <td>40171</td>\n",
       "      <td>9</td>\n",
       "      <td>78</td>\n",
       "      <td>241.681584</td>\n",
       "      <td>8.6</td>\n",
       "      <td>2.1</td>\n",
       "      <td>No</td>\n",
       "      <td>37</td>\n",
       "      <td>26</td>\n",
       "      <td>1491046.35</td>\n",
       "    </tr>\n",
       "  </tbody>\n",
       "</table>\n",
       "</div>"
      ],
      "text/plain": [
       "           Name  Location   Cuisine  Rating  Seating Capacity  \\\n",
       "0  Restaurant 0     Rural  Japanese     4.0                38   \n",
       "1  Restaurant 1  Downtown   Mexican     3.2                76   \n",
       "2  Restaurant 2     Rural   Italian     4.7                48   \n",
       "3  Restaurant 3     Rural   Italian     4.4                34   \n",
       "4  Restaurant 4  Downtown  Japanese     4.9                88   \n",
       "\n",
       "   Average Meal Price  Marketing Budget  Social Media Followers  \\\n",
       "0               73.98              2224                   23406   \n",
       "1               28.11              4416                   42741   \n",
       "2               48.29              2796                   37285   \n",
       "3               51.55              1167                   15214   \n",
       "4               75.98              3639                   40171   \n",
       "\n",
       "   Chef Experience Years  Number of Reviews  Avg Review Length  \\\n",
       "0                     13                185         161.924906   \n",
       "1                      8                533         148.759717   \n",
       "2                     18                853          56.849189   \n",
       "3                     13                 82         205.433265   \n",
       "4                      9                 78         241.681584   \n",
       "\n",
       "   Ambience Score  Service Quality Score Parking Availability  \\\n",
       "0             1.3                    7.0                  Yes   \n",
       "1             2.6                    3.4                  Yes   \n",
       "2             5.3                    6.7                   No   \n",
       "3             4.6                    2.8                  Yes   \n",
       "4             8.6                    2.1                   No   \n",
       "\n",
       "   Weekend Reservations  Weekday Reservations     Revenue  \n",
       "0                    13                     4   638945.52  \n",
       "1                    48                     6   490207.83  \n",
       "2                    27                    14   541368.62  \n",
       "3                     9                    17   404556.80  \n",
       "4                    37                    26  1491046.35  "
      ]
     },
     "execution_count": 3,
     "metadata": {},
     "output_type": "execute_result"
    }
   ],
   "source": [
    "df = pd.read_csv('./data/restaurant_data.csv')\n",
    "df.head()"
   ]
  },
  {
   "cell_type": "markdown",
   "metadata": {},
   "source": [
    "## 4\n",
    "Test a hypothesis and construct a confidence interval for the difference in proportions of two populations.\n",
    "\n",
    "- Statement of the problem: Test the hypothesis and build a confidence interval for the difference in the proportion of restaurants with **revenue over 500 000** between the sample of restaurants with parking and the sample without parking.\n",
    "\n",
    "Null Hypothesis: $H_0: p_1 = p_2$\n",
    "\n",
    "Alternative Hypothesis: $H_1: p_1 \\neq p_2$\n"
   ]
  },
  {
   "cell_type": "code",
   "execution_count": 4,
   "metadata": {},
   "outputs": [
    {
     "name": "stdout",
     "output_type": "stream",
     "text": [
      "Number of Parking Availability: \n",
      "n1 = 4189\n",
      "Number of No Parking Availability: \n",
      "n2 = 4179\n"
     ]
    }
   ],
   "source": [
    "#Test a hypothesis and construct a confidence interval for the difference in proportions of two populations.\n",
    "Parking = df[df['Parking Availability'] == 'Yes']['Revenue']\n",
    "NoParking = df[df['Parking Availability'] == 'No']['Revenue']\n",
    "\n",
    "n1 = len(Parking)\n",
    "n2 = len(NoParking)\n",
    "print(\"Number of Parking Availability: \\nn1 =\", n1)\n",
    "print(\"Number of No Parking Availability: \\nn2 =\", n2)"
   ]
  },
  {
   "cell_type": "code",
   "execution_count": 5,
   "metadata": {},
   "outputs": [
    {
     "name": "stdout",
     "output_type": "stream",
     "text": [
      "Number of Parking Availability revenue > 500000: \n",
      "x1 = 2845\n",
      "Number of No Parking Availability revenue > 500000: \n",
      "x2 = 2801\n"
     ]
    }
   ],
   "source": [
    "# Count the revenue > 500000\n",
    "count_Parking = Parking[Parking > 500000].count()\n",
    "count_NoParking = NoParking[NoParking > 500000].count()\n",
    "print(\"Number of Parking Availability revenue > 500000: \\nx1 =\", count_Parking)\n",
    "print(\"Number of No Parking Availability revenue > 500000: \\nx2 =\", count_NoParking)"
   ]
  },
  {
   "cell_type": "code",
   "execution_count": 6,
   "metadata": {},
   "outputs": [
    {
     "name": "stdout",
     "output_type": "stream",
     "text": [
      "Sample proportion of Parking Availability p^1:  0.6791597039866316\n",
      "Sample proportion of No Parking Availability p^2:  0.6702560421153386\n",
      "Pooled proportion:  0.6747131931166348\n",
      "Difference in sample proportions:  0.00890366187129299\n"
     ]
    }
   ],
   "source": [
    "p1_hat = count_Parking / len(Parking)\n",
    "p2_hat = count_NoParking / len(NoParking)\n",
    "p_hat = (count_Parking + count_NoParking) / (len(Parking) + len(NoParking))\n",
    "print(\"Sample proportion of Parking Availability p^1: \", p1_hat)\n",
    "print(\"Sample proportion of No Parking Availability p^2: \", p2_hat)\n",
    "print(\"Pooled proportion: \", p_hat)\n",
    "print(\"Difference in sample proportions: \", p1_hat - p2_hat)"
   ]
  },
  {
   "cell_type": "code",
   "execution_count": 7,
   "metadata": {},
   "outputs": [
    {
     "name": "stdout",
     "output_type": "stream",
     "text": [
      "Test statistic z0:  0.869273345134384\n"
     ]
    }
   ],
   "source": [
    "z0 = (p1_hat - p2_hat) / (p_hat * (1 - p_hat) * (1 / n1 + 1 / n2)) ** 0.5 \n",
    "print(\"Test statistic z0: \", z0)"
   ]
  },
  {
   "cell_type": "code",
   "execution_count": 8,
   "metadata": {},
   "outputs": [
    {
     "name": "stdout",
     "output_type": "stream",
     "text": [
      "Critical value z_alpha:  1.959963984540054\n",
      "Fail to reject the null hypothesis\n",
      "So we can not say that the proportion of revenue > 500000 is different between Parking Availability and No Parking Availability\n"
     ]
    }
   ],
   "source": [
    "alpha = 0.05\n",
    "z_alpha = stats.norm.ppf(1 - alpha / 2)\n",
    "print(\"Critical value z_alpha: \", z_alpha)\n",
    "\n",
    "if abs(z0) > z_alpha:\n",
    "    print(\"Reject the null hypothesis\")\n",
    "else:\n",
    "    print(\"Fail to reject the null hypothesis\")\n",
    "    print(\"So we can not say that the proportion of revenue > 500000 is different between Parking Availability and No Parking Availability\")"
   ]
  },
  {
   "cell_type": "code",
   "execution_count": 9,
   "metadata": {},
   "outputs": [
    {
     "name": "stdout",
     "output_type": "stream",
     "text": [
      "95% confidence interval for the difference in proportions:  [-0.01117156  0.02897889]\n"
     ]
    }
   ],
   "source": [
    "# Construct a confidence interval for the difference in proportions\n",
    "CI = (p1_hat - p2_hat) + np.array([-1, 1]) * z_alpha * (p_hat * (1 - p_hat) * (1 / n1 + 1 / n2)) ** 0.5\n",
    "print(\"95% confidence interval for the difference in proportions: \", CI)"
   ]
  },
  {
   "cell_type": "markdown",
   "metadata": {},
   "source": [
    "## 5"
   ]
  },
  {
   "cell_type": "markdown",
   "metadata": {},
   "source": []
  }
 ],
 "metadata": {
  "kernelspec": {
   "display_name": "base",
   "language": "python",
   "name": "python3"
  },
  "language_info": {
   "codemirror_mode": {
    "name": "ipython",
    "version": 3
   },
   "file_extension": ".py",
   "mimetype": "text/x-python",
   "name": "python",
   "nbconvert_exporter": "python",
   "pygments_lexer": "ipython3",
   "version": "3.11.7"
  }
 },
 "nbformat": 4,
 "nbformat_minor": 2
}
